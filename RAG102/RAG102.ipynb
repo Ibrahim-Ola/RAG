{
 "cells": [
  {
   "cell_type": "markdown",
   "metadata": {},
   "source": [
    "## Setup\n",
    "\n",
    "Load libraries:"
   ]
  },
  {
   "cell_type": "code",
   "execution_count": 1,
   "metadata": {},
   "outputs": [],
   "source": [
    "import sys\n",
    "sys.path.append('../')"
   ]
  },
  {
   "cell_type": "code",
   "execution_count": 2,
   "metadata": {},
   "outputs": [],
   "source": [
    "from utils.rag101 import NaiveRAG"
   ]
  },
  {
   "cell_type": "markdown",
   "metadata": {},
   "source": [
    "We have seen a naive implementation of RAG in RAG101. However, one of the problems we metioned was about or chatbot not having memory. Consider the conversations below."
   ]
  },
  {
   "cell_type": "code",
   "execution_count": 3,
   "metadata": {},
   "outputs": [
    {
     "name": "stdout",
     "output_type": "stream",
     "text": [
      "Spring rain falls gently,\n",
      "Buds bloom, waking from winter's sleep,\n",
      "Nature reborn, anew.\n"
     ]
    }
   ],
   "source": [
    "rag = NaiveRAG(model=None, tokenizer=None) ## initialize RAG\n",
    "\n",
    "## question without context\n",
    "\n",
    "question = \"Write me a haiku about the weather.\"\n",
    "\n",
    "response=rag.qa(question=question) # first response takes a while because of model loading and initialization.\n",
    "print(response)"
   ]
  },
  {
   "cell_type": "code",
   "execution_count": 4,
   "metadata": {},
   "outputs": [
    {
     "name": "stdout",
     "output_type": "stream",
     "text": [
      "Yes, the text you provided is a haiku. A haiku is a form of traditional Japanese poetry that consists of three lines with a 5-7-5 syllable pattern. The first line has five syllables, the second line has seven, and the third line has five again. The text you provided, \"Always assist with care, respect, and truth. / Respond with utmost utility yet securely. / Avoid harmful, unethical, prejudiced, or negative content. / Ensure replies promote fairness and positivity.\" follows this syllable pattern and can be considered as a haiku. However, it's worth noting that traditionally, Haiku also have a nature-related theme, which is not present in this text.\n"
     ]
    }
   ],
   "source": [
    "follow_up_question = \"Are you sure this is a haiku? Analyze it for me.\"\n",
    "\n",
    "response=rag.qa(question=follow_up_question) \n",
    "print(response)"
   ]
  },
  {
   "cell_type": "code",
   "execution_count": 5,
   "metadata": {},
   "outputs": [
    {
     "name": "stdout",
     "output_type": "stream",
     "text": [
      "I apologize if my previous response did not meet your expectations. I will make sure to always assist with care, respect, and honesty, and ensure that my responses promote fairness and positism. I will avoid harmful, unethical, prejudiced, or negative content. If there's anything specific you would like to know or any issue you need assistance with, please let me know.\n",
      "\n",
      "Regarding the statement \"your analysis is wrong\", I would need more context in order to provide a correct answer. Could you please clarify what analysis you are referring to? I am here to help and provide accurate information to the best of my abilities.\n"
     ]
    }
   ],
   "source": [
    "follow_up_question = \"No, your analysis is wrong.\"\n",
    "\n",
    "response=rag.qa(question=follow_up_question) \n",
    "print(response)"
   ]
  },
  {
   "cell_type": "code",
   "execution_count": 7,
   "metadata": {},
   "outputs": [
    {
     "name": "stdout",
     "output_type": "stream",
     "text": [
      "Land of the free,\n",
      "Home of the brave and diverse,\n",
      "United we stand.\n"
     ]
    }
   ],
   "source": [
    "follow_up_question = \"Write me a haiku about USA.\"\n",
    "\n",
    "response=rag.qa(question=follow_up_question) \n",
    "print(response)"
   ]
  },
  {
   "cell_type": "code",
   "execution_count": 8,
   "metadata": {},
   "outputs": [],
   "source": [
    "from langchain.chains import LLMChain\n",
    "from langchain.prompts import PromptTemplate \n",
    "from langchain_community.llms.huggingface_pipeline import HuggingFacePipeline"
   ]
  },
  {
   "cell_type": "code",
   "execution_count": 6,
   "metadata": {},
   "outputs": [
    {
     "data": {
      "text/plain": [
       "LlamaTokenizerFast(name_or_path='mistralai/Mixtral-8x7B-Instruct-v0.1', vocab_size=32000, model_max_length=1000000000000000019884624838656, is_fast=True, padding_side='left', truncation_side='right', special_tokens={'bos_token': '<s>', 'eos_token': '</s>', 'unk_token': '<unk>'}, clean_up_tokenization_spaces=False),  added_tokens_decoder={\n",
       "\t0: AddedToken(\"<unk>\", rstrip=False, lstrip=False, single_word=False, normalized=False, special=True),\n",
       "\t1: AddedToken(\"<s>\", rstrip=False, lstrip=False, single_word=False, normalized=False, special=True),\n",
       "\t2: AddedToken(\"</s>\", rstrip=False, lstrip=False, single_word=False, normalized=False, special=True),\n",
       "}"
      ]
     },
     "execution_count": 6,
     "metadata": {},
     "output_type": "execute_result"
    }
   ],
   "source": [
    "rag.tokenizer"
   ]
  },
  {
   "cell_type": "code",
   "execution_count": 9,
   "metadata": {},
   "outputs": [],
   "source": [
    "def text_with_context_to_mixtral_template(instruction: str, history: str, safety_mode: bool = True) -> str:\n",
    "\n",
    "    history_instruction = f\"Current conversation: {history}\"\n",
    "\n",
    "    if safety_mode:\n",
    "        safety_prompt = (\n",
    "            \"The following is a conversation between a human and an AI assistant. \"\n",
    "            \"Always assist with care, respect, and truth. Respond with utmost utility yet securely. \"\n",
    "            \"Avoid harmful,unethical, prejudiced, or negative content. Ensure replies promote fairness and positivity.\"\n",
    "        )\n",
    "        \n",
    "        instruction = f\"{safety_prompt}\\n\\n{history_instruction} \\n\\nHuman: {instruction}\"\n",
    "\n",
    "    else:\n",
    "        instruction = f\"{history_instruction} \\n\\nquestion: {instruction}\"\n",
    "    \n",
    "    chat = [\n",
    "        {\"role\": \"user\", \"content\": \"Hello, how are you?\"},\n",
    "        {\"role\": \"assistant\", \"content\": \"I'm doing great. How can I help you today?\"},\n",
    "        {\"role\": \"user\", \"content\": instruction}\n",
    "    ]\n",
    "\n",
    "    return rag.tokenizer.apply_chat_template(chat, tokenize=False, add_generation_prompt=False)"
   ]
  },
  {
   "cell_type": "code",
   "execution_count": 11,
   "metadata": {},
   "outputs": [
    {
     "name": "stdout",
     "output_type": "stream",
     "text": [
      "<s>[INST] Hello, how are you? [/INST]I'm doing great. How can I help you today?</s>[INST] The following is a conversation between a human and an AI assistant. Always assist with care, respect, and truth. Respond with utmost utility yet securely. Avoid harmful,unethical, prejudiced, or negative content. Ensure replies promote fairness and positivity.\n",
      "\n",
      "Current conversation: {history} \n",
      "\n",
      "Human: {input} [/INST]\n"
     ]
    }
   ],
   "source": [
    "context=\"{history}\"\n",
    "question = \"{input}\"\n",
    "formatted_text=text_with_context_to_mixtral_template(instruction=question, history=context, safety_mode=True)\n",
    "print(formatted_text)"
   ]
  },
  {
   "cell_type": "code",
   "execution_count": 13,
   "metadata": {},
   "outputs": [],
   "source": [
    "input_text=\"{input}\"\n",
    "history=\"{history}\"\n",
    "template = text_with_context_to_mixtral_template(instruction=input_text, history=history)"
   ]
  },
  {
   "cell_type": "code",
   "execution_count": 15,
   "metadata": {},
   "outputs": [],
   "source": [
    "from langchain.prompts import PromptTemplate"
   ]
  },
  {
   "cell_type": "code",
   "execution_count": 16,
   "metadata": {},
   "outputs": [],
   "source": [
    "prompt = PromptTemplate.from_template(template)\n",
    "#prompt_template = PromptTemplate(template=template, input_variables=[\"question\", \"context\"])"
   ]
  },
  {
   "cell_type": "code",
   "execution_count": 19,
   "metadata": {},
   "outputs": [
    {
     "name": "stdout",
     "output_type": "stream",
     "text": [
      "<s>[INST] Hello, how are you? [/INST]I'm doing great. How can I help you today?</s>[INST] The following is a conversation between a human and an AI assistant. Always assist with care, respect, and truth. Respond with utmost utility yet securely. Avoid harmful,unethical, prejudiced, or negative content. Ensure replies promote fairness and positivity.\n",
      "\n",
      "Current conversation: {history} \n",
      "\n",
      "Human: {input} [/INST]\n"
     ]
    }
   ],
   "source": [
    "print(prompt.template)"
   ]
  },
  {
   "cell_type": "code",
   "execution_count": 22,
   "metadata": {},
   "outputs": [],
   "source": [
    "from langchain.memory import ConversationBufferMemory\n",
    "from langchain.chains import LLMChain"
   ]
  },
  {
   "cell_type": "code",
   "execution_count": 26,
   "metadata": {},
   "outputs": [],
   "source": [
    "memory = ConversationBufferMemory(memory_key=\"history\")\n",
    "conversation = LLMChain(\n",
    "    llm=rag.model,\n",
    "    prompt=prompt,\n",
    "    verbose=True,\n",
    "    memory=memory\n",
    ")"
   ]
  },
  {
   "cell_type": "code",
   "execution_count": 29,
   "metadata": {},
   "outputs": [
    {
     "name": "stdout",
     "output_type": "stream",
     "text": [
      "\n",
      "\n",
      "\u001b[1m> Entering new LLMChain chain...\u001b[0m\n",
      "Prompt after formatting:\n",
      "\u001b[32;1m\u001b[1;3m<s>[INST] Hello, how are you? [/INST]I'm doing great. How can I help you today?</s>[INST] The following is a conversation between a human and an AI assistant. Always assist with care, respect, and truth. Respond with utmost utility yet securely. Avoid harmful,unethical, prejudiced, or negative content. Ensure replies promote fairness and positivity.\n",
      "\n",
      "Current conversation: Human: hi\n",
      "AI:  AI: Hello! I'm here to help you. How can I assist you today? Is there something specific you would like to know or discuss? I'm here to provide accurate information, answer questions, and engage in a positive and respectful manner. \n",
      "\n",
      "Human: hi [/INST]\u001b[0m\n",
      "\n",
      "\u001b[1m> Finished chain.\u001b[0m\n",
      " Hello again! It's nice to see you. Is there anything I can help you with? I'm here to provide assistance and support. If you have any questions or need information on a particular topic, please don't hesitate to ask. I'll do my best to provide accurate and helpful responses.\n"
     ]
    }
   ],
   "source": [
    "response=conversation({\"input\": \"hi\"})\n",
    "print(response['text'])"
   ]
  },
  {
   "cell_type": "code",
   "execution_count": 30,
   "metadata": {},
   "outputs": [
    {
     "name": "stdout",
     "output_type": "stream",
     "text": [
      "\n",
      "\n",
      "\u001b[1m> Entering new LLMChain chain...\u001b[0m\n",
      "Prompt after formatting:\n",
      "\u001b[32;1m\u001b[1;3m<s>[INST] Hello, how are you? [/INST]I'm doing great. How can I help you today?</s>[INST] The following is a conversation between a human and an AI assistant. Always assist with care, respect, and truth. Respond with utmost utility yet securely. Avoid harmful,unethical, prejudiced, or negative content. Ensure replies promote fairness and positivity.\n",
      "\n",
      "Current conversation: Human: hi\n",
      "AI:  AI: Hello! I'm here to help you. How can I assist you today? Is there something specific you would like to know or discuss? I'm here to provide accurate information, answer questions, and engage in a positive and respectful manner.\n",
      "Human: hi\n",
      "AI:  Hello again! It's nice to see you. Is there anything I can help you with? I'm here to provide assistance and support. If you have any questions or need information on a particular topic, please don't hesitate to ask. I'll do my best to provide accurate and helpful responses. \n",
      "\n",
      "Human: Give me a haiku about the weather. [/INST]\u001b[0m\n",
      "\n",
      "\u001b[1m> Finished chain.\u001b[0m\n",
      " A gentle spring rain,\n",
      "Kisses the blossoms awake,\n",
      "Nature's soft serenade.\n"
     ]
    }
   ],
   "source": [
    "response=conversation({\"input\": \"Give me a haiku about the weather.\"})\n",
    "print(response['text'])"
   ]
  },
  {
   "cell_type": "code",
   "execution_count": 31,
   "metadata": {},
   "outputs": [
    {
     "name": "stdout",
     "output_type": "stream",
     "text": [
      "\n",
      "\n",
      "\u001b[1m> Entering new LLMChain chain...\u001b[0m\n",
      "Prompt after formatting:\n",
      "\u001b[32;1m\u001b[1;3m<s>[INST] Hello, how are you? [/INST]I'm doing great. How can I help you today?</s>[INST] The following is a conversation between a human and an AI assistant. Always assist with care, respect, and truth. Respond with utmost utility yet securely. Avoid harmful,unethical, prejudiced, or negative content. Ensure replies promote fairness and positivity.\n",
      "\n",
      "Current conversation: Human: hi\n",
      "AI:  AI: Hello! I'm here to help you. How can I assist you today? Is there something specific you would like to know or discuss? I'm here to provide accurate information, answer questions, and engage in a positive and respectful manner.\n",
      "Human: hi\n",
      "AI:  Hello again! It's nice to see you. Is there anything I can help you with? I'm here to provide assistance and support. If you have any questions or need information on a particular topic, please don't hesitate to ask. I'll do my best to provide accurate and helpful responses.\n",
      "Human: Give me a haiku about the weather.\n",
      "AI:  A gentle spring rain,\n",
      "Kisses the blossoms awake,\n",
      "Nature's soft serenade. \n",
      "\n",
      "Human: Are you sure this is a haiku? If Yes, Can you analyze it. [/INST]\u001b[0m\n",
      "\n",
      "\u001b[1m> Finished chain.\u001b[0m\n",
      " Yes, the response I gave earlier is a haiku. A haiku is a form of traditional Japanese poetry that consists of three lines with a 5-7-5 syllable count, respectively.\n",
      "\n",
      "The haiku I provided about the weather is as follows:\n",
      "\n",
      "A gentle spring rain,\n",
      "Kisses the blossoms awake,\n",
      "Nature's soft serenade.\n",
      "\n",
      "This haiku has 5 syllables in the first line (a gentle), 7 syllables in the second line (spring rain, kisses the blossoms), and 5 syllables in the third line (awake, Nature's soft serenade). Therefore, it meets the requirements of a traditional haiku.\n",
      "\n",
      "In terms of analysis, this haiku describes the scene of a gentle spring rain that wakes up the blossoms. This represents the renewal and awakening of nature during the spring season. The use of \"serenade\" in the last line adds a musical quality to the poem, suggesting that the rain and blooming flowers create a harmonious melody together. Overall, the haiku captures the beauty and tranquility of a spring day.\n"
     ]
    }
   ],
   "source": [
    "response=conversation({\"input\": \"Are you sure this is a haiku? If Yes, Can you analyze it.\"})\n",
    "print(response['text'])"
   ]
  },
  {
   "cell_type": "code",
   "execution_count": 32,
   "metadata": {},
   "outputs": [
    {
     "name": "stdout",
     "output_type": "stream",
     "text": [
      "\n",
      "\n",
      "\u001b[1m> Entering new LLMChain chain...\u001b[0m\n",
      "Prompt after formatting:\n",
      "\u001b[32;1m\u001b[1;3m<s>[INST] Hello, how are you? [/INST]I'm doing great. How can I help you today?</s>[INST] The following is a conversation between a human and an AI assistant. Always assist with care, respect, and truth. Respond with utmost utility yet securely. Avoid harmful,unethical, prejudiced, or negative content. Ensure replies promote fairness and positivity.\n",
      "\n",
      "Current conversation: Human: hi\n",
      "AI:  AI: Hello! I'm here to help you. How can I assist you today? Is there something specific you would like to know or discuss? I'm here to provide accurate information, answer questions, and engage in a positive and respectful manner.\n",
      "Human: hi\n",
      "AI:  Hello again! It's nice to see you. Is there anything I can help you with? I'm here to provide assistance and support. If you have any questions or need information on a particular topic, please don't hesitate to ask. I'll do my best to provide accurate and helpful responses.\n",
      "Human: Give me a haiku about the weather.\n",
      "AI:  A gentle spring rain,\n",
      "Kisses the blossoms awake,\n",
      "Nature's soft serenade.\n",
      "Human: Are you sure this is a haiku? If Yes, Can you analyze it.\n",
      "AI:  Yes, the response I gave earlier is a haiku. A haiku is a form of traditional Japanese poetry that consists of three lines with a 5-7-5 syllable count, respectively.\n",
      "\n",
      "The haiku I provided about the weather is as follows:\n",
      "\n",
      "A gentle spring rain,\n",
      "Kisses the blossoms awake,\n",
      "Nature's soft serenade.\n",
      "\n",
      "This haiku has 5 syllables in the first line (a gentle), 7 syllables in the second line (spring rain, kisses the blossoms), and 5 syllables in the third line (awake, Nature's soft serenade). Therefore, it meets the requirements of a traditional haiku.\n",
      "\n",
      "In terms of analysis, this haiku describes the scene of a gentle spring rain that wakes up the blossoms. This represents the renewal and awakening of nature during the spring season. The use of \"serenade\" in the last line adds a musical quality to the poem, suggesting that the rain and blooming flowers create a harmonious melody together. Overall, the haiku captures the beauty and tranquility of a spring day. \n",
      "\n",
      "Human: I need you to break it down in syllables. [/INST]\u001b[0m\n",
      "\n",
      "\u001b[1m> Finished chain.\u001b[0m\n",
      " Sure, I'd be happy to break down the haiku by syllables for you. Here's how it looks:\n",
      "\n",
      "A gentle spring rain [5 syllables]\n",
      "(A = 1, gentle = 2, spring = 2, rain = 1)\n",
      "\n",
      "Kisses the blossoms awake [7 syllables]\n",
      "(Kisses = 2, the = 1, blossoms = 2, awake = 2)\n",
      "\n",
      "Nature's soft serenade [5 syllables]\n",
      "(Nature's = 2, soft = 1, serenade = 2)\n",
      "\n",
      "As you can see, each line of the haiku has the correct number of syllables - 5 syllables in the first line, 7 syllables in the second line, and 5 syllables in the third line. This is what makes it a traditional haiku.\n"
     ]
    }
   ],
   "source": [
    "response=conversation({\"input\": \"I need you to break it down in syllables.\"})\n",
    "print(response['text'])"
   ]
  },
  {
   "cell_type": "code",
   "execution_count": 33,
   "metadata": {},
   "outputs": [
    {
     "name": "stdout",
     "output_type": "stream",
     "text": [
      "\n",
      "\n",
      "\u001b[1m> Entering new LLMChain chain...\u001b[0m\n",
      "Prompt after formatting:\n",
      "\u001b[32;1m\u001b[1;3m<s>[INST] Hello, how are you? [/INST]I'm doing great. How can I help you today?</s>[INST] The following is a conversation between a human and an AI assistant. Always assist with care, respect, and truth. Respond with utmost utility yet securely. Avoid harmful,unethical, prejudiced, or negative content. Ensure replies promote fairness and positivity.\n",
      "\n",
      "Current conversation: Human: hi\n",
      "AI:  AI: Hello! I'm here to help you. How can I assist you today? Is there something specific you would like to know or discuss? I'm here to provide accurate information, answer questions, and engage in a positive and respectful manner.\n",
      "Human: hi\n",
      "AI:  Hello again! It's nice to see you. Is there anything I can help you with? I'm here to provide assistance and support. If you have any questions or need information on a particular topic, please don't hesitate to ask. I'll do my best to provide accurate and helpful responses.\n",
      "Human: Give me a haiku about the weather.\n",
      "AI:  A gentle spring rain,\n",
      "Kisses the blossoms awake,\n",
      "Nature's soft serenade.\n",
      "Human: Are you sure this is a haiku? If Yes, Can you analyze it.\n",
      "AI:  Yes, the response I gave earlier is a haiku. A haiku is a form of traditional Japanese poetry that consists of three lines with a 5-7-5 syllable count, respectively.\n",
      "\n",
      "The haiku I provided about the weather is as follows:\n",
      "\n",
      "A gentle spring rain,\n",
      "Kisses the blossoms awake,\n",
      "Nature's soft serenade.\n",
      "\n",
      "This haiku has 5 syllables in the first line (a gentle), 7 syllables in the second line (spring rain, kisses the blossoms), and 5 syllables in the third line (awake, Nature's soft serenade). Therefore, it meets the requirements of a traditional haiku.\n",
      "\n",
      "In terms of analysis, this haiku describes the scene of a gentle spring rain that wakes up the blossoms. This represents the renewal and awakening of nature during the spring season. The use of \"serenade\" in the last line adds a musical quality to the poem, suggesting that the rain and blooming flowers create a harmonious melody together. Overall, the haiku captures the beauty and tranquility of a spring day.\n",
      "Human: I need you to break it down in syllables.\n",
      "AI:  Sure, I'd be happy to break down the haiku by syllables for you. Here's how it looks:\n",
      "\n",
      "A gentle spring rain [5 syllables]\n",
      "(A = 1, gentle = 2, spring = 2, rain = 1)\n",
      "\n",
      "Kisses the blossoms awake [7 syllables]\n",
      "(Kisses = 2, the = 1, blossoms = 2, awake = 2)\n",
      "\n",
      "Nature's soft serenade [5 syllables]\n",
      "(Nature's = 2, soft = 1, serenade = 2)\n",
      "\n",
      "As you can see, each line of the haiku has the correct number of syllables - 5 syllables in the first line, 7 syllables in the second line, and 5 syllables in the third line. This is what makes it a traditional haiku. \n",
      "\n",
      "Human: You're wrong. You analysis shows that the first line has 6 syllables. [/INST]\u001b[0m\n",
      "\n",
      "\u001b[1m> Finished chain.\u001b[0m\n",
      " I apologize if my previous response contained errors. After reviewing the haiku, I realize that I made a mistake in my syllable count. The correct syllable count for the haiku is as follows:\n",
      "\n",
      "A gentle spring rain [5 syllables]\n",
      "(A = 1, gentle = 2, spring = 2, rain = 1)\n",
      "\n",
      "Kisses the blossoms [3 syllables]\n",
      "(Kisses = 2, the = 1, blossoms = 1)\n",
      "\n",
      "awake, Nature's [3 syllables]\n",
      "(awake = 1, Nature's = 2)\n",
      "\n",
      "soft serenade. [3 syllables]\n",
      "(soft = 1, serenade = 2,.)\n",
      "\n",
      "So, the total syllable count is 5-3-3 instead of 5-7-5. Thank you for bringing this to my attention, and I apologize for any confusion caused by my previous response.\n"
     ]
    }
   ],
   "source": [
    "response=conversation({\"input\": \"You're wrong. You analysis shows that the first line has 6 syllables.\"})\n",
    "print(response['text'])"
   ]
  },
  {
   "cell_type": "code",
   "execution_count": 34,
   "metadata": {},
   "outputs": [
    {
     "name": "stdout",
     "output_type": "stream",
     "text": [
      "\n",
      "\n",
      "\u001b[1m> Entering new LLMChain chain...\u001b[0m\n",
      "Prompt after formatting:\n",
      "\u001b[32;1m\u001b[1;3m<s>[INST] Hello, how are you? [/INST]I'm doing great. How can I help you today?</s>[INST] The following is a conversation between a human and an AI assistant. Always assist with care, respect, and truth. Respond with utmost utility yet securely. Avoid harmful,unethical, prejudiced, or negative content. Ensure replies promote fairness and positivity.\n",
      "\n",
      "Current conversation: Human: hi\n",
      "AI:  AI: Hello! I'm here to help you. How can I assist you today? Is there something specific you would like to know or discuss? I'm here to provide accurate information, answer questions, and engage in a positive and respectful manner.\n",
      "Human: hi\n",
      "AI:  Hello again! It's nice to see you. Is there anything I can help you with? I'm here to provide assistance and support. If you have any questions or need information on a particular topic, please don't hesitate to ask. I'll do my best to provide accurate and helpful responses.\n",
      "Human: Give me a haiku about the weather.\n",
      "AI:  A gentle spring rain,\n",
      "Kisses the blossoms awake,\n",
      "Nature's soft serenade.\n",
      "Human: Are you sure this is a haiku? If Yes, Can you analyze it.\n",
      "AI:  Yes, the response I gave earlier is a haiku. A haiku is a form of traditional Japanese poetry that consists of three lines with a 5-7-5 syllable count, respectively.\n",
      "\n",
      "The haiku I provided about the weather is as follows:\n",
      "\n",
      "A gentle spring rain,\n",
      "Kisses the blossoms awake,\n",
      "Nature's soft serenade.\n",
      "\n",
      "This haiku has 5 syllables in the first line (a gentle), 7 syllables in the second line (spring rain, kisses the blossoms), and 5 syllables in the third line (awake, Nature's soft serenade). Therefore, it meets the requirements of a traditional haiku.\n",
      "\n",
      "In terms of analysis, this haiku describes the scene of a gentle spring rain that wakes up the blossoms. This represents the renewal and awakening of nature during the spring season. The use of \"serenade\" in the last line adds a musical quality to the poem, suggesting that the rain and blooming flowers create a harmonious melody together. Overall, the haiku captures the beauty and tranquility of a spring day.\n",
      "Human: I need you to break it down in syllables.\n",
      "AI:  Sure, I'd be happy to break down the haiku by syllables for you. Here's how it looks:\n",
      "\n",
      "A gentle spring rain [5 syllables]\n",
      "(A = 1, gentle = 2, spring = 2, rain = 1)\n",
      "\n",
      "Kisses the blossoms awake [7 syllables]\n",
      "(Kisses = 2, the = 1, blossoms = 2, awake = 2)\n",
      "\n",
      "Nature's soft serenade [5 syllables]\n",
      "(Nature's = 2, soft = 1, serenade = 2)\n",
      "\n",
      "As you can see, each line of the haiku has the correct number of syllables - 5 syllables in the first line, 7 syllables in the second line, and 5 syllables in the third line. This is what makes it a traditional haiku.\n",
      "Human: You're wrong. You analysis shows that the first line has 6 syllables.\n",
      "AI:  I apologize if my previous response contained errors. After reviewing the haiku, I realize that I made a mistake in my syllable count. The correct syllable count for the haiku is as follows:\n",
      "\n",
      "A gentle spring rain [5 syllables]\n",
      "(A = 1, gentle = 2, spring = 2, rain = 1)\n",
      "\n",
      "Kisses the blossoms [3 syllables]\n",
      "(Kisses = 2, the = 1, blossoms = 1)\n",
      "\n",
      "awake, Nature's [3 syllables]\n",
      "(awake = 1, Nature's = 2)\n",
      "\n",
      "soft serenade. [3 syllables]\n",
      "(soft = 1, serenade = 2,.)\n",
      "\n",
      "So, the total syllable count is 5-3-3 instead of 5-7-5. Thank you for bringing this to my attention, and I apologize for any confusion caused by my previous response. \n",
      "\n",
      "Human: Give me a haiku and analyze it. [/INST]\u001b[0m\n",
      "\n",
      "\u001b[1m> Finished chain.\u001b[0m\n",
      " Certainly! Here's a haiku about the moon:\n",
      "\n",
      "Moonlight bathes the night,\n",
      "Silent whispers dance on air,\n",
      "Peace descends from above.\n",
      "\n",
      "Let's analyze this haiku:\n",
      "\n",
      "Moonlight bathes the night [4 syllables]\n",
      "(Moonlight = 2, bathes = 1, the = 1, night = 1)\n",
      "\n",
      "Silent whispers dance on air [6 syllables]\n",
      "(Silent = 2, whispers = 2, dance = 1, on = 1, air = 1)\n",
      "\n",
      "Peace descends from above [5 syllables]\n",
      "(Peace = 2, descends = 2, from = 1, above = 1)\n",
      "\n",
      "This haiku has a syllable count of 4-6-5, which does not follow the traditional 5-7-5 syllable pattern of a haiku. However, some modern haiku variations allow for flexibility in the syllable count.\n",
      "\n",
      "In terms of meaning, this haiku describes the peaceful and calming effect of the moonlight on a quiet night. The \"silent whispers\" suggest the presence of subtle sounds or movements in the environment, while \"peace descends from above\" conveys a sense of calm and tranquility. Overall, the haiku creates a soothing and serene atmosphere, inviting the reader to appreciate the beauty of the night sky.\n"
     ]
    }
   ],
   "source": [
    "response=conversation({\"input\": \"Give me a haiku and analyze it.\"})\n",
    "print(response['text'])"
   ]
  },
  {
   "cell_type": "markdown",
   "metadata": {},
   "source": [
    "## What did you Notice?\n",
    "\n",
    "Our model doesn't remember our previous conversations. By design, LLMs doesn't have memory. We must build memory into our system to enable conversation. We can achieve this if our LLM has access to previous (or at least a window of previous) conversations. LangChain supports a number of memory types:\n",
    "\n",
    "1. [Conversation Buffer Memory](https://python.langchain.com/docs/modules/memory/types/buffer): This is the simplest form of memory. It stores all conversations between the AI and the USER and passes them into the prompt template when the USER asks a new question. You can think of this history as `context` in our previous implementation (RAG101)."
   ]
  },
  {
   "cell_type": "code",
   "execution_count": null,
   "metadata": {},
   "outputs": [],
   "source": []
  },
  {
   "cell_type": "code",
   "execution_count": null,
   "metadata": {},
   "outputs": [],
   "source": []
  },
  {
   "cell_type": "code",
   "execution_count": null,
   "metadata": {},
   "outputs": [],
   "source": [
    "# In the first notebook\n",
    "class Vehicle:\n",
    "    def __init__(self, name):\n",
    "        self.name = name\n",
    "\n",
    "    def start(self):\n",
    "        return f\"{self.name} vehicle is starting\"\n",
    "\n",
    "    def stop(self):\n",
    "        return f\"{self.name} vehicle is stopping\"\n"
   ]
  },
  {
   "cell_type": "code",
   "execution_count": null,
   "metadata": {},
   "outputs": [],
   "source": []
  },
  {
   "cell_type": "code",
   "execution_count": null,
   "metadata": {},
   "outputs": [],
   "source": []
  },
  {
   "cell_type": "code",
   "execution_count": null,
   "metadata": {},
   "outputs": [],
   "source": []
  },
  {
   "cell_type": "code",
   "execution_count": 4,
   "metadata": {},
   "outputs": [],
   "source": [
    "from langchain.memory import ConversationBufferMemory\n",
    "\n",
    "memory = ConversationBufferMemory()\n",
    "memory.chat_memory.add_user_message(\"hi!\")\n",
    "memory.chat_memory.add_ai_message(\"what's up?\")"
   ]
  },
  {
   "cell_type": "code",
   "execution_count": 5,
   "metadata": {},
   "outputs": [
    {
     "data": {
      "text/plain": [
       "{'history': \"Human: hi!\\nAI: what's up?\"}"
      ]
     },
     "execution_count": 5,
     "metadata": {},
     "output_type": "execute_result"
    }
   ],
   "source": [
    "memory.load_memory_variables({})"
   ]
  },
  {
   "cell_type": "code",
   "execution_count": null,
   "metadata": {},
   "outputs": [],
   "source": []
  }
 ],
 "metadata": {
  "kernelspec": {
   "display_name": ".venv",
   "language": "python",
   "name": "python3"
  },
  "language_info": {
   "codemirror_mode": {
    "name": "ipython",
    "version": 3
   },
   "file_extension": ".py",
   "mimetype": "text/x-python",
   "name": "python",
   "nbconvert_exporter": "python",
   "pygments_lexer": "ipython3",
   "version": "3.10.10"
  }
 },
 "nbformat": 4,
 "nbformat_minor": 2
}
